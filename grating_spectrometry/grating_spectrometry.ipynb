{
 "cells": [
  {
   "cell_type": "markdown",
   "metadata": {},
   "source": [
    "_Version Log: Trying to understand the theory for blaze gratings_"
   ]
  },
  {
   "cell_type": "code",
   "execution_count": 1,
   "metadata": {},
   "outputs": [],
   "source": [
    "import os, re\n",
    "import numpy as np\n",
    "import pandas as pd\n",
    "import matplotlib.pyplot as plt\n",
    "\n",
    "source= \"red\"\n",
    "grating= \"vis\"\n",
    "run= \"1\"\n",
    "file_type= \".csv\"\n",
    "distance_to_screen = 270 #mm\n",
    "grove_density = 1200 #mm^-1\n",
    "blaze_angle = 36.9 #degrees\n",
    "central_wavelength = 635e-9 #m 405e-9 520e-9 635e-9\n"
   ]
  },
  {
   "cell_type": "code",
   "execution_count": 2,
   "metadata": {},
   "outputs": [],
   "source": [
    "def radians(degrees):\n",
    "    return degrees*np.pi/180\n",
    "\n",
    "def degrees(radians):\n",
    "    return radians*180/np.pi\n",
    "\n",
    "def find_files(source, grating, number, file_type):\n",
    "    file_names = os.listdir(\"data\\\\\")\n",
    "    for file_name in file_names:\n",
    "        check = re.findall('^'+source+'_'+grating+number+file_type , file_name)\n",
    "        if len(check) != 0:\n",
    "            new_file_name = file_name\n",
    "    return new_file_name\n",
    "\n",
    "def import_data(source, grating, number, file_type):\n",
    "    file_name = find_files(source= source, grating= grating, number= number, file_type= file_type)\n",
    "    if file_type == \".csv\":\n",
    "        data = pd.read_csv(\"data\\\\\"+file_name, delimiter=\",\", names= [\"angle\", \"1st order\", \"0th order\", \"-1st order\"], dtype= np.float32)\n",
    "    return data"
   ]
  },
  {
   "cell_type": "code",
   "execution_count": 3,
   "metadata": {},
   "outputs": [
    {
     "data": {
      "text/html": [
       "<div>\n",
       "<style scoped>\n",
       "    .dataframe tbody tr th:only-of-type {\n",
       "        vertical-align: middle;\n",
       "    }\n",
       "\n",
       "    .dataframe tbody tr th {\n",
       "        vertical-align: top;\n",
       "    }\n",
       "\n",
       "    .dataframe thead th {\n",
       "        text-align: right;\n",
       "    }\n",
       "</style>\n",
       "<table border=\"1\" class=\"dataframe\">\n",
       "  <thead>\n",
       "    <tr style=\"text-align: right;\">\n",
       "      <th></th>\n",
       "      <th>angle</th>\n",
       "      <th>1st order</th>\n",
       "      <th>0th order</th>\n",
       "      <th>-1st order</th>\n",
       "      <th>incident angle</th>\n",
       "    </tr>\n",
       "  </thead>\n",
       "  <tbody>\n",
       "    <tr>\n",
       "      <th>0</th>\n",
       "      <td>86.0</td>\n",
       "      <td>NaN</td>\n",
       "      <td>NaN</td>\n",
       "      <td>-44.546082</td>\n",
       "      <td>-5.0</td>\n",
       "    </tr>\n",
       "    <tr>\n",
       "      <th>1</th>\n",
       "      <td>96.0</td>\n",
       "      <td>NaN</td>\n",
       "      <td>NaN</td>\n",
       "      <td>-61.392891</td>\n",
       "      <td>5.0</td>\n",
       "    </tr>\n",
       "    <tr>\n",
       "      <th>2</th>\n",
       "      <td>106.0</td>\n",
       "      <td>NaN</td>\n",
       "      <td>-16.709808</td>\n",
       "      <td>NaN</td>\n",
       "      <td>15.0</td>\n",
       "    </tr>\n",
       "    <tr>\n",
       "      <th>3</th>\n",
       "      <td>116.0</td>\n",
       "      <td>NaN</td>\n",
       "      <td>-26.340191</td>\n",
       "      <td>NaN</td>\n",
       "      <td>25.0</td>\n",
       "    </tr>\n",
       "    <tr>\n",
       "      <th>4</th>\n",
       "      <td>126.0</td>\n",
       "      <td>NaN</td>\n",
       "      <td>-35.994019</td>\n",
       "      <td>NaN</td>\n",
       "      <td>35.0</td>\n",
       "    </tr>\n",
       "    <tr>\n",
       "      <th>5</th>\n",
       "      <td>136.0</td>\n",
       "      <td>2.436646</td>\n",
       "      <td>-45.000000</td>\n",
       "      <td>NaN</td>\n",
       "      <td>45.0</td>\n",
       "    </tr>\n",
       "    <tr>\n",
       "      <th>6</th>\n",
       "      <td>146.0</td>\n",
       "      <td>-3.880463</td>\n",
       "      <td>-56.250507</td>\n",
       "      <td>NaN</td>\n",
       "      <td>55.0</td>\n",
       "    </tr>\n",
       "    <tr>\n",
       "      <th>7</th>\n",
       "      <td>156.0</td>\n",
       "      <td>-7.332359</td>\n",
       "      <td>NaN</td>\n",
       "      <td>NaN</td>\n",
       "      <td>65.0</td>\n",
       "    </tr>\n",
       "    <tr>\n",
       "      <th>8</th>\n",
       "      <td>166.0</td>\n",
       "      <td>-8.869514</td>\n",
       "      <td>NaN</td>\n",
       "      <td>NaN</td>\n",
       "      <td>75.0</td>\n",
       "    </tr>\n",
       "  </tbody>\n",
       "</table>\n",
       "</div>"
      ],
      "text/plain": [
       "   angle  1st order  0th order  -1st order  incident angle\n",
       "0   86.0        NaN        NaN  -44.546082            -5.0\n",
       "1   96.0        NaN        NaN  -61.392891             5.0\n",
       "2  106.0        NaN -16.709808         NaN            15.0\n",
       "3  116.0        NaN -26.340191         NaN            25.0\n",
       "4  126.0        NaN -35.994019         NaN            35.0\n",
       "5  136.0   2.436646 -45.000000         NaN            45.0\n",
       "6  146.0  -3.880463 -56.250507         NaN            55.0\n",
       "7  156.0  -7.332359        NaN         NaN            65.0\n",
       "8  166.0  -8.869514        NaN         NaN            75.0"
      ]
     },
     "execution_count": 3,
     "metadata": {},
     "output_type": "execute_result"
    }
   ],
   "source": [
    "df = import_data(source= source, grating= grating, number= run, file_type= file_type)\n",
    "\n",
    "df[\"incident angle\"] = df[\"angle\"] -df[\"angle\"][0] +45 #The first reading was done at 45 degrees\n",
    "df.loc[:,\"1st order\":\"-1st order\"] = df[\"0th order\"][0] -df.loc[:,\"1st order\":\"-1st order\"] #get the relitive positions (in mm)\n",
    "df.loc[:,\"1st order\":\"-1st order\"] = degrees(np.arctan(df.loc[:,\"1st order\":\"-1st order\"] / distance_to_screen)) #the angle between the beam and the screen normal\n",
    "df.loc[:,\"1st order\":\"-1st order\"] = df.loc[:,\"1st order\":\"-1st order\"].add(df[\"incident angle\"], axis= 0) -90 #diffraction angle. By convention, the 0th order is always negative.\n",
    "df.sort_values(\"incident angle\", ignore_index= True, inplace= True)\n",
    "\n",
    "df"
   ]
  },
  {
   "cell_type": "code",
   "execution_count": 4,
   "metadata": {},
   "outputs": [
    {
     "name": "stderr",
     "output_type": "stream",
     "text": [
      "C:\\Users\\syf83691\\AppData\\Local\\Temp\\ipykernel_8840\\3929967760.py:7: RuntimeWarning: divide by zero encountered in divide\n",
      "  wavelength = sine_sum.T /n /g\n",
      "C:\\Users\\syf83691\\AppData\\Local\\Temp\\ipykernel_8840\\3929967760.py:7: RuntimeWarning: invalid value encountered in divide\n",
      "  wavelength = sine_sum.T /n /g\n"
     ]
    },
    {
     "data": {
      "text/plain": [
       "array([[           nan,            nan, 6.57198727e-07],\n",
       "       [           nan,            nan, 6.58973207e-07],\n",
       "       [           nan,           -inf,            nan],\n",
       "       [           nan,           -inf,            nan],\n",
       "       [           nan,           -inf,            nan],\n",
       "       [6.24684542e-07,            nan,            nan],\n",
       "       [6.26230836e-07,           -inf,            nan],\n",
       "       [6.48902456e-07,            nan,            nan],\n",
       "       [6.76450978e-07,            nan,            nan]])"
      ]
     },
     "execution_count": 4,
     "metadata": {},
     "output_type": "execute_result"
    }
   ],
   "source": [
    "def diffaction(alpha, beta, n, g): #incident angle, diffacted angle, order, grove density\n",
    "    alpha = radians(np.array(alpha)) #convert to a np.array in radians\n",
    "    beta = radians(np.array(beta))\n",
    "    n = np.array(n)\n",
    "    g *= 1e3 #convert from mm^-1 to m^-1\n",
    "    sine_sum = np.sin(alpha) + np.sin(beta).T #sine_sum doesn't hold much physical significance but it is a good intermediary.\n",
    "    wavelength = sine_sum.T /n /g\n",
    "    return wavelength\n",
    "\n",
    "calculated_wavelengths = diffaction(df[\"incident angle\"], df.loc[:,\"1st order\":\"-1st order\"], [1,0,-1], grove_density)\n",
    "calculated_wavelength = np.nanmean(calculated_wavelengths[np.isfinite(calculated_wavelengths)]) #find the average of the finite and valid numbers\n",
    "\n",
    "calculated_wavelengths\n"
   ]
  },
  {
   "cell_type": "code",
   "execution_count": 5,
   "metadata": {},
   "outputs": [
    {
     "name": "stdout",
     "output_type": "stream",
     "text": [
      "The wavelength was calculated to be 6.49e-07m insted of 6.35e-07m which is an error of 2.2%.\n"
     ]
    }
   ],
   "source": [
    "percent_diff = 100 * np.abs((calculated_wavelength -central_wavelength)/central_wavelength)\n",
    "\n",
    "print(\"The wavelength was calculated to be {0:.2e}m insted of {1:.2e}m which is an error of {2:.1f}%.\".format(calculated_wavelength, central_wavelength, percent_diff))"
   ]
  },
  {
   "cell_type": "code",
   "execution_count": null,
   "metadata": {},
   "outputs": [],
   "source": []
  }
 ],
 "metadata": {
  "kernelspec": {
   "display_name": "Python 3",
   "language": "python",
   "name": "python3"
  },
  "language_info": {
   "codemirror_mode": {
    "name": "ipython",
    "version": 3
   },
   "file_extension": ".py",
   "mimetype": "text/x-python",
   "name": "python",
   "nbconvert_exporter": "python",
   "pygments_lexer": "ipython3",
   "version": "3.11.6"
  }
 },
 "nbformat": 4,
 "nbformat_minor": 2
}
